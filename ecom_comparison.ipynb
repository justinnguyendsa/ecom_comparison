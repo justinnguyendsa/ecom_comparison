{
 "cells": [
  {
   "cell_type": "code",
   "execution_count": 1,
   "metadata": {},
   "outputs": [],
   "source": [
    "from ecom_comparison import *"
   ]
  },
  {
   "cell_type": "code",
   "execution_count": 2,
   "metadata": {},
   "outputs": [
    {
     "name": "stdout",
     "output_type": "stream",
     "text": [
      "Search: Máy tính bảng\n",
      "Status: 202 OK\n"
     ]
    }
   ],
   "source": [
    "data = search()"
   ]
  },
  {
   "cell_type": "code",
   "execution_count": 3,
   "metadata": {},
   "outputs": [
    {
     "data": {
      "text/html": [
       "<div>\n",
       "<style scoped>\n",
       "    .dataframe tbody tr th:only-of-type {\n",
       "        vertical-align: middle;\n",
       "    }\n",
       "\n",
       "    .dataframe tbody tr th {\n",
       "        vertical-align: top;\n",
       "    }\n",
       "\n",
       "    .dataframe thead th {\n",
       "        text-align: right;\n",
       "    }\n",
       "</style>\n",
       "<table border=\"1\" class=\"dataframe\">\n",
       "  <thead>\n",
       "    <tr style=\"text-align: right;\">\n",
       "      <th></th>\n",
       "      <th></th>\n",
       "      <th>id</th>\n",
       "      <th>name</th>\n",
       "      <th>price</th>\n",
       "      <th>original_price</th>\n",
       "      <th>discount</th>\n",
       "      <th>discount_rate</th>\n",
       "      <th>rating_average</th>\n",
       "      <th>review_count</th>\n",
       "      <th>origin</th>\n",
       "    </tr>\n",
       "  </thead>\n",
       "  <tbody>\n",
       "    <tr>\n",
       "      <th rowspan=\"5\" valign=\"top\">tiki</th>\n",
       "      <th>0</th>\n",
       "      <td>273559020</td>\n",
       "      <td>Máy tính bảng Kindle Fire HD10 2023 13th - 32G...</td>\n",
       "      <td>3390000</td>\n",
       "      <td>3390000</td>\n",
       "      <td>0</td>\n",
       "      <td>0.0</td>\n",
       "      <td>0.0</td>\n",
       "      <td>0</td>\n",
       "      <td>Mỹ</td>\n",
       "    </tr>\n",
       "    <tr>\n",
       "      <th>1</th>\n",
       "      <td>273559306</td>\n",
       "      <td>Máy tính bảng Kindle Fire Max 11 inch - 13th -...</td>\n",
       "      <td>5290000</td>\n",
       "      <td>5290000</td>\n",
       "      <td>0</td>\n",
       "      <td>0.0</td>\n",
       "      <td>0.0</td>\n",
       "      <td>0</td>\n",
       "      <td>Mỹ</td>\n",
       "    </tr>\n",
       "    <tr>\n",
       "      <th>2</th>\n",
       "      <td>274101262</td>\n",
       "      <td>Máy Tính Bảng Samsung Galaxy Tab A9 Plus Wifi ...</td>\n",
       "      <td>3800000</td>\n",
       "      <td>5990000</td>\n",
       "      <td>2190000</td>\n",
       "      <td>37.0</td>\n",
       "      <td>5.0</td>\n",
       "      <td>26</td>\n",
       "      <td>Trung Quốc</td>\n",
       "    </tr>\n",
       "    <tr>\n",
       "      <th>3</th>\n",
       "      <td>183330021</td>\n",
       "      <td>Apple iPad 10.2-inch (9th Gen) Wi-Fi 2021</td>\n",
       "      <td>6990000</td>\n",
       "      <td>10990000</td>\n",
       "      <td>4000000</td>\n",
       "      <td>36.0</td>\n",
       "      <td>5.0</td>\n",
       "      <td>985</td>\n",
       "      <td>Trung Quốc</td>\n",
       "    </tr>\n",
       "    <tr>\n",
       "      <th>4</th>\n",
       "      <td>184253251</td>\n",
       "      <td>Apple iPad Air (5th Gen) Wi-Fi 2022</td>\n",
       "      <td>13990000</td>\n",
       "      <td>18990000</td>\n",
       "      <td>5000000</td>\n",
       "      <td>26.0</td>\n",
       "      <td>5.0</td>\n",
       "      <td>248</td>\n",
       "      <td>Trung Quốc</td>\n",
       "    </tr>\n",
       "  </tbody>\n",
       "</table>\n",
       "</div>"
      ],
      "text/plain": [
       "               id                                               name  \\\n",
       "tiki 0  273559020  Máy tính bảng Kindle Fire HD10 2023 13th - 32G...   \n",
       "     1  273559306  Máy tính bảng Kindle Fire Max 11 inch - 13th -...   \n",
       "     2  274101262  Máy Tính Bảng Samsung Galaxy Tab A9 Plus Wifi ...   \n",
       "     3  183330021          Apple iPad 10.2-inch (9th Gen) Wi-Fi 2021   \n",
       "     4  184253251                Apple iPad Air (5th Gen) Wi-Fi 2022   \n",
       "\n",
       "           price  original_price  discount  discount_rate  rating_average  \\\n",
       "tiki 0   3390000         3390000         0            0.0             0.0   \n",
       "     1   5290000         5290000         0            0.0             0.0   \n",
       "     2   3800000         5990000   2190000           37.0             5.0   \n",
       "     3   6990000        10990000   4000000           36.0             5.0   \n",
       "     4  13990000        18990000   5000000           26.0             5.0   \n",
       "\n",
       "        review_count      origin  \n",
       "tiki 0             0          Mỹ  \n",
       "     1             0          Mỹ  \n",
       "     2            26  Trung Quốc  \n",
       "     3           985  Trung Quốc  \n",
       "     4           248  Trung Quốc  "
      ]
     },
     "execution_count": 3,
     "metadata": {},
     "output_type": "execute_result"
    }
   ],
   "source": [
    "data.head(5)"
   ]
  },
  {
   "cell_type": "code",
   "execution_count": null,
   "metadata": {},
   "outputs": [],
   "source": []
  }
 ],
 "metadata": {
  "kernelspec": {
   "display_name": "base",
   "language": "python",
   "name": "python3"
  },
  "language_info": {
   "codemirror_mode": {
    "name": "ipython",
    "version": 3
   },
   "file_extension": ".py",
   "mimetype": "text/x-python",
   "name": "python",
   "nbconvert_exporter": "python",
   "pygments_lexer": "ipython3",
   "version": "3.9.12"
  }
 },
 "nbformat": 4,
 "nbformat_minor": 2
}
